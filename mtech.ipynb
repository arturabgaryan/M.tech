{
 "cells": [
  {
   "cell_type": "code",
   "execution_count": 2,
   "metadata": {},
   "outputs": [],
   "source": [
    "import pandas as pd\n",
    "import numpy as np\n",
    "import matplotlib.pyplot as plt\n",
    "import seaborn as sns\n",
    "from scipy import stats\n",
    "\n",
    "# Загрузка данных\n",
    "data = pd.read_csv('Статистика.csv')\n",
    "\n",
    "# Первичный анализ данных\n",
    "print(data.info())\n",
    "print(data.describe())"
   ]
  },
  {
   "cell_type": "code",
   "execution_count": null,
   "metadata": {},
   "outputs": [],
   "source": [
    "# Добавляем новую колонку, которая разделяет сотрудников на старше и младше 35 лет\n",
    "data['Возрастная группа'] = np.where(data['age'] > 35, 'older', 'younger')\n",
    "\n",
    "# Преобразуем поле пола в категориальный тип\n",
    "data['gender'] = data['gender'].astype('category')\n",
    "\n",
    "# Проверка на пропуски\n",
    "print(data.isnull().sum())\n",
    "\n",
    "# Violin Plot для мужчин и женщин\n",
    "plt.figure(figsize=(10, 6))\n",
    "sns.violinplot(x='Пол', y='work_days', data=data)\n",
    "plt.title('Распределение пропусков по болезни среди мужчин и женщин')\n",
    "plt.xlabel('Пол')\n",
    "plt.ylabel('Количество больничных дней')\n",
    "plt.show()\n",
    "\n",
    "# Violin Plot для работников старше и младше 35 лет\n",
    "plt.figure(figsize=(10, 6))\n",
    "sns.violinplot(x='Возрастная группа', y='Количество больничных дней', data=data)\n",
    "plt.title('Распределение пропусков по болезни среди работников старше и младше 35 лет')\n",
    "plt.xlabel('Возрастная группа')\n",
    "plt.ylabel('Количество больничных дней')\n",
    "plt.show()"
   ]
  },
  {
   "cell_type": "code",
   "execution_count": null,
   "metadata": {},
   "outputs": [],
   "source": [
    "# Данные для мужчин и женщин\n",
    "male_days = data[data['gender'] == 'Male']['work_days']\n",
    "female_days = data[data['gender'] == 'Female']['work_days']\n",
    "\n",
    "# Проведение t-теста для независимых выборок\n",
    "t_stat_gender, p_value_gender = stats.ttest_ind(male_days, female_days)\n",
    "\n",
    "# Результаты\n",
    "print(f\"Гипотеза 1: t-статистика = {t_stat_gender:.4f}, p-значение = {p_value_gender:.4f}\")\n",
    "if p_value_gender < 0.05:\n",
    "    print(\"Результат статистически значим: мужчины пропускают больше рабочих дней по болезни.\")\n",
    "else:\n",
    "    print(\"Результат не является статистически значимым: различий между мужчинами и женщинами нет.\")"
   ]
  },
  {
   "cell_type": "code",
   "execution_count": null,
   "metadata": {},
   "outputs": [],
   "source": [
    "# Данные для старшей и младшей возрастной группы\n",
    "older_days = data[data['age_group'] == 'older']['work_days']\n",
    "younger_days = data[data['age_group'] == 'younger']['work_days']\n",
    "\n",
    "# Проведение t-теста для независимых выборок\n",
    "t_stat_age, p_value_age = stats.ttest_ind(older_days, younger_days)\n",
    "\n",
    "# Результаты\n",
    "print(f\"Гипотеза 2: t-статистика = {t_stat_age:.4f}, p-значение = {p_value_age:.4f}\")\n",
    "if p_value_age < 0.05:\n",
    "    print(\"Результат статистически значим: сотрудники старше 35 лет пропускают больше рабочих дней.\")\n",
    "else:\n",
    "    print(\"Результат не является статистически значимым: различий между возрастными группами нет.\")"
   ]
  },
  {
   "cell_type": "code",
   "execution_count": null,
   "metadata": {},
   "outputs": [],
   "source": [
    "# Окончательные выводы:\n",
    "if p_value_gender < 0.05:\n",
    "    print(\"Мужчины значительно чаще пропускают работу по болезни.\")\n",
    "else:\n",
    "    print(\"Различий между мужчинами и женщинами нет.\")\n",
    "\n",
    "if p_value_age < 0.05:\n",
    "    print(\"Сотрудники старше 35 лет чаще болеют и пропускают работу.\")\n",
    "else:\n",
    "    print(\"Различий между возрастными группами нет.\")"
   ]
  }
 ],
 "metadata": {
  "colab": {
   "provenance": []
  },
  "kernelspec": {
   "display_name": "Python 3 (ipykernel)",
   "language": "python",
   "name": "python3"
  },
  "language_info": {
   "codemirror_mode": {
    "name": "ipython",
    "version": 3
   },
   "file_extension": ".py",
   "mimetype": "text/x-python",
   "name": "python",
   "nbconvert_exporter": "python",
   "pygments_lexer": "ipython3",
   "version": "3.10.12"
  }
 },
 "nbformat": 4,
 "nbformat_minor": 4
}
