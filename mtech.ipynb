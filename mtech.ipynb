{
 "cells": [
  {
   "cell_type": "code",
   "execution_count": 2,
   "metadata": {
    "colab": {
     "base_uri": "https://localhost:8080/"
    },
    "id": "liov_IJvctCr",
    "outputId": "d9cbc9ce-5797-40ec-d7e1-5d709c945744"
   },
   "outputs": [
    {
     "name": "stdout",
     "output_type": "stream",
     "text": [
      "Overwriting mtech.py\n"
     ]
    }
   ],
   "source": [
    "%%writefile mtech.py\n",
    "import streamlit as st\n",
    "import pandas as pd\n",
    "import seaborn as sns\n",
    "import numpy as np\n",
    "import matplotlib.pyplot as plt\n",
    "from scipy import stats\n",
    "\n",
    "st.title('Анализ пропусков по болезни среди сотрудников')\n",
    "uploaded_file = st.file_uploader(\"Загрузите CSV-файл с данными\", type=\"csv\")\n",
    "\n",
    "if uploaded_file is not None:\n",
    "    data = pd.read_csv(uploaded_file)\n",
    "\n",
    "    data['Пол'] = data['Пол'].astype('category')\n",
    "    data['Возрастная группа'] = np.where(data['Возраст'] > 35, 'Старше', 'Младше')\n",
    "\n",
    "    st.subheader('Распределение пропусков по болезни по полу')\n",
    "    fig, ax = plt.subplots()\n",
    "    sns.violinplot(x='Пол', y='Количество больничных дней', data=data, ax=ax)\n",
    "    st.pyplot(fig)\n",
    "\n",
    "    st.subheader('Распределение пропусков по болезни по возрасту')\n",
    "    fig2, ax2 = plt.subplots()\n",
    "    sns.violinplot(x='Возрастная группа', y='Количество больничных дней', data=data, ax=ax2)\n",
    "    st.pyplot(fig2)\n",
    "\n",
    "    male_days = data[(data['Пол'] == 'М') & (data['Количество больничных дней'] > 2)]['Количество больничных дней']\n",
    "    female_days = data[(data['Пол'] == 'Ж') & (data['Количество больничных дней'] > 2)]['Количество больничных дней']\n",
    "    t_stat_gender, p_value_gender = stats.ttest_ind(male_days, female_days)\n",
    "\n",
    "    older_days = data[(data['Возрастная группа'] == 'Старше')  & (data['Количество больничных дней'] > 2)]['Количество больничных дней']\n",
    "    younger_days = data[(data['Возрастная группа'] == 'Младше')  & (data['Количество больничных дней'] > 2)]['Количество больничных дней']\n",
    "    t_stat_age, p_value_age = stats.ttest_ind(older_days, younger_days)\n",
    "\n",
    "    st.subheader('Результаты проверки гипотез')\n",
    "    st.write(f\"Гипотеза 1: t-статистика = {t_stat_gender:.4f}, p-значение = {p_value_gender:.4f}\")\n",
    "    st.write(f\"Гипотеза 2: t-статистика = {t_stat_age:.4f}, p-значение = {p_value_age:.4f}\")\n",
    "\n",
    "    if p_value_gender < 0.05:\n",
    "        st.write(\"Мужчины значительно чаще пропускают работу по болезни.\")\n",
    "    else:\n",
    "        st.write(\"Различий между мужчинами и женщинами нет.\")\n",
    "\n",
    "    if p_value_age < 0.05:\n",
    "        st.write(\"Сотрудники старше 35 лет чаще болеют и пропускают работу.\")\n",
    "    else:\n",
    "        st.write(\"Различий между возрастными группами нет.\")"
   ]
  }
 ],
 "metadata": {
  "colab": {
   "provenance": []
  },
  "kernelspec": {
   "display_name": "Python 3 (ipykernel)",
   "language": "python",
   "name": "python3"
  },
  "language_info": {
   "codemirror_mode": {
    "name": "ipython",
    "version": 3
   },
   "file_extension": ".py",
   "mimetype": "text/x-python",
   "name": "python",
   "nbconvert_exporter": "python",
   "pygments_lexer": "ipython3",
   "version": "3.10.12"
  }
 },
 "nbformat": 4,
 "nbformat_minor": 4
}
